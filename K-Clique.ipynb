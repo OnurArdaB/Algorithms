{
  "nbformat": 4,
  "nbformat_minor": 0,
  "metadata": {
    "colab": {
      "name": "Copy of 301.ipynb",
      "provenance": [],
      "collapsed_sections": []
    },
    "kernelspec": {
      "name": "python3",
      "display_name": "Python 3"
    },
    "accelerator": "GPU"
  },
  "cells": [
    {
      "cell_type": "markdown",
      "metadata": {
        "id": "mpNq2y5QqJqv",
        "colab_type": "text"
      },
      "source": [
        "importing files"
      ]
    },
    {
      "cell_type": "code",
      "metadata": {
        "id": "61ZJGmOzOe71",
        "colab_type": "code",
        "colab": {}
      },
      "source": [
        "from collections import defaultdict\n",
        "import random\n",
        "import time\n",
        "import pandas as pd\n",
        "import numpy as np\n",
        "from scipy import stats\n",
        "import statistics"
      ],
      "execution_count": 0,
      "outputs": []
    },
    {
      "cell_type": "markdown",
      "metadata": {
        "id": "8cznMBygqScl",
        "colab_type": "text"
      },
      "source": [
        "Generating Random Graphs"
      ]
    },
    {
      "cell_type": "code",
      "metadata": {
        "id": "y1zrIPewA3pX",
        "colab_type": "code",
        "colab": {}
      },
      "source": [
        "def random_graph_gen(size):\n",
        "  edges = np.random.randint(0,2,(size,size))\n",
        "  for i in range(size):\n",
        "          edges[i][i] = 2  \n",
        "  for i in range(size):\n",
        "      for j in range(i,size):\n",
        "          edges[i][j] = edges[j][i]\n",
        "  return edges\n",
        "\n",
        "def graph_numpy_to_dic(adjacency):\n",
        "  graph = dict()\n",
        "  for i in range(len(adjacency)):\n",
        "    lister = []\n",
        "    for j in range(len(adjacency)):\n",
        "      if(adjacency[i][j] == 1):\n",
        "        lister.append(j+1)\n",
        "    graph[i+1] = lister\n",
        "  return graph\n",
        "\n",
        "def graph_gen(size):\n",
        "  Graph = random_graph_gen(size)\n",
        "  return graph_numpy_to_dic(Graph)\n",
        "\n",
        "def get_keys_array(dict):\n",
        "  result = []\n",
        "  for key in dict.keys():\n",
        "      result.append(key)\n",
        "  return result"
      ],
      "execution_count": 0,
      "outputs": []
    },
    {
      "cell_type": "markdown",
      "metadata": {
        "id": "PBUNo2URqWLW",
        "colab_type": "text"
      },
      "source": [
        "NP Algorithm"
      ]
    },
    {
      "cell_type": "code",
      "metadata": {
        "id": "6Cx4AlJTp8-A",
        "colab_type": "code",
        "colab": {}
      },
      "source": [
        "class Node(object):\n",
        "  def __init__(self, name, n = []):\n",
        "      self.name = name\n",
        "      self.neighbors = n\n",
        "  def __repr__(self):\n",
        "      return self.name\n",
        "\n",
        "\n",
        "def find_cliques(potential_clique=[], remaining_nodes=[], skip_nodes=[], depth=0,all_cliques=[]):\n",
        "\n",
        "    if len(remaining_nodes) == 0 and len(skip_nodes) == 0:\n",
        "        #print('This is a clique:', potential_clique)\n",
        "        all_cliques.append(potential_clique)\n",
        "        return 1\n",
        "\n",
        "    found_cliques = 0\n",
        "    for node in remaining_nodes:\n",
        "\n",
        "        # Try adding the node to the current potential_clique to see if we can make it work.\n",
        "        new_potential_clique = potential_clique + [node]\n",
        "        new_remaining_nodes = [n for n in remaining_nodes if n in node.neighbors]\n",
        "        new_skip_list = [n for n in skip_nodes if n in node.neighbors]\n",
        "        found_cliques += find_cliques(new_potential_clique, new_remaining_nodes, new_skip_list, depth + 1,all_cliques)\n",
        "\n",
        "        # We're done considering this node.  If there was a way to form a clique with it, we\n",
        "        # already discovered its maximal clique in the recursive call above.  So, go ahead\n",
        "        # and remove it from the list of remaining nodes and add it to the skip list.\n",
        "        remaining_nodes.remove(node)\n",
        "        skip_nodes.append(node)\n",
        "    return found_cliques\n",
        "\n",
        "def convert_dict_to_nodes(graph):\n",
        "  all_nodes = []\n",
        "  for i in graph:\n",
        "      all_nodes.append(Node(chr(i+64)))\n",
        "  for n in all_nodes:\n",
        "      n.neighbors = []\n",
        "      for i in graph[ord(n.name)-64]:\n",
        "          n.neighbors.append(all_nodes[i-1])\n",
        "  return all_nodes\n",
        "\n",
        "def np_clique(graph,k):\n",
        "  myNodes = convert_dict_to_nodes(graph)\n",
        "  all_cliques = []\n",
        "  found_cliques = find_cliques(remaining_nodes=myNodes, all_cliques=all_cliques)\n",
        "  result = 0\n",
        "  for c in all_cliques:\n",
        "      if len(c) > result:\n",
        "          result = len(c)\n",
        "\n",
        "\n",
        "  if result >= k:\n",
        "      return True\n",
        "\n",
        "  return False\n",
        "\n",
        "\n",
        "\n"
      ],
      "execution_count": 0,
      "outputs": []
    },
    {
      "cell_type": "markdown",
      "metadata": {
        "id": "xuQnKnEjsWSW",
        "colab_type": "text"
      },
      "source": [
        "P Algorithm"
      ]
    },
    {
      "cell_type": "code",
      "metadata": {
        "id": "5Vx-3L_jsWpm",
        "colab_type": "code",
        "colab": {}
      },
      "source": [
        "def p_clique(graph,k):\n",
        "  if k == 1:\n",
        "      return True\n",
        "  clique = []\n",
        "  vertices = get_keys_array(graph)\n",
        "  max_ln=0\n",
        "  max_dict=[]\n",
        "  for i in range(0,len(graph)): \n",
        "    clique=[]\n",
        "    clique.append(vertices[i])\n",
        "    for v in vertices:            \n",
        "        if v in clique:             \n",
        "            continue\n",
        "        isNext = True\n",
        "        for u in clique:            \n",
        "            if u in graph[v]:        \n",
        "              continue\n",
        "            else:\n",
        "              isNext = False\n",
        "              break\n",
        "        if isNext:\n",
        "          clique.append(v)\n",
        "          if k <= len(clique):\n",
        "            return True\n",
        "    if len(clique)>max_ln:\n",
        "      max_ln=len(clique)\n",
        "      max_dict=clique\n",
        "  if k <= len(clique):\n",
        "    return True\n",
        "  else :\n",
        "    return False"
      ],
      "execution_count": 0,
      "outputs": []
    },
    {
      "cell_type": "markdown",
      "metadata": {
        "id": "Qb4bT9pVqai9",
        "colab_type": "text"
      },
      "source": [
        "Check the results of NP and P algorithm"
      ]
    },
    {
      "cell_type": "code",
      "metadata": {
        "id": "qSSwXaMZqDll",
        "colab_type": "code",
        "colab": {}
      },
      "source": [
        "def check_error(p,np):\n",
        "  if np==p:\n",
        "    return \"No Error\"\n",
        "  else:\n",
        "    return \"Error\""
      ],
      "execution_count": 0,
      "outputs": []
    },
    {
      "cell_type": "markdown",
      "metadata": {
        "id": "4SsXRL6dqgYd",
        "colab_type": "text"
      },
      "source": [
        "Generating and Test Graphs "
      ]
    },
    {
      "cell_type": "code",
      "metadata": {
        "id": "pKipZa5s94-h",
        "colab_type": "code",
        "colab": {}
      },
      "source": [
        "def generate_sample_error_and_time(input_try_no):\n",
        "  no_try = []\n",
        "  no_try1 = []\n",
        "  for size in graph_size_list:\n",
        "    size_array = []\n",
        "    size_array1 = []\n",
        "    k_list = [ 3, 4, 5, 6]\n",
        "    for k in k_list:    \n",
        "      k_array = []\n",
        "      k_array1 = []\n",
        "      for z in range (0,input_try_no):\n",
        "        graph = graph_gen(size)\n",
        "        start = time.time()\n",
        "        a = p_clique(graph, k)\n",
        "        end = time.time()\n",
        "        x = np_clique(graph, k)\n",
        "        time_passed = end-start\n",
        "        k_array1.append(time_passed)\n",
        "        if check_error(a,x) == \"Error\":\n",
        "          Error_graphs.append(graph)\n",
        "          Error_graphs_len.append(len(graph))\n",
        "          Error_graphs_k.append(k)\n",
        "          Error_graphs_p_clique.append(a)\n",
        "        k_array.append(check_error(a,x))\n",
        "      size_array1.append(k_array1)\n",
        "      size_array.append(k_array)\n",
        "    no_try1.append(size_array1)\n",
        "    no_try.append(size_array)\n",
        "  return no_try, no_try1"
      ],
      "execution_count": 0,
      "outputs": []
    },
    {
      "cell_type": "markdown",
      "metadata": {
        "id": "Err2sP2Dqszd",
        "colab_type": "text"
      },
      "source": [
        "Statistics for Time Measurement"
      ]
    },
    {
      "cell_type": "code",
      "metadata": {
        "id": "1U6f_k0FqIN1",
        "colab_type": "code",
        "colab": {}
      },
      "source": [
        "def getRunningTime(running_times):\n",
        "  total_time = 0.0\n",
        "  for j in range (0,len(running_times)):\n",
        "    total_time = total_time + running_times[j]\n",
        "  standard_deviation = np.std(running_times)\n",
        "  size = len(running_times)\n",
        "  sample_mean_running_time = np.mean(running_times)\n",
        "  tval_90 = 1.645\n",
        "  tval_95 = 1.96\n",
        "  standard_error = stats.sem(running_times)\n",
        "  upper_mean90 = sample_mean_running_time + (tval_90 * standard_error)\n",
        "  lower_mean90 = sample_mean_running_time - (tval_90 * standard_error)\n",
        "  upper_mean95 = sample_mean_running_time + (tval_95 * standard_error)\n",
        "  lower_mean95 = sample_mean_running_time - (tval_95 * standard_error)\n",
        "  return standard_deviation,sample_mean_running_time, standard_error, upper_mean90, lower_mean90, upper_mean95, lower_mean95"
      ],
      "execution_count": 0,
      "outputs": []
    },
    {
      "cell_type": "markdown",
      "metadata": {
        "id": "07HvJyrErrwG",
        "colab_type": "text"
      },
      "source": [
        "Run Of Functions"
      ]
    },
    {
      "cell_type": "code",
      "metadata": {
        "id": "0J_va-cQCrla",
        "colab_type": "code",
        "outputId": "a2c1e062-9c96-4081-b5dc-226e119923da",
        "colab": {
          "base_uri": "https://localhost:8080/",
          "height": 85
        }
      },
      "source": [
        "Error_graphs = []\n",
        "Error_graphs_len = []\n",
        "Error_graphs_k = []\n",
        "Error_graphs_p_clique = []\n",
        "graph_size_list=[10,15,20,30]\n",
        "number_of_tries=[50,100,250,500]\n",
        "\n",
        "check_no_try_50, time_no_try_50 = generate_sample_error_and_time(number_of_tries[0])\n",
        "print(\"50\")\n",
        "check_no_try_100, time_no_try_100 = generate_sample_error_and_time(number_of_tries[1])\n",
        "print(\"100\")\n",
        "check_no_try_250, time_no_try_250 = generate_sample_error_and_time(number_of_tries[2])\n",
        "print(\"250\")\n",
        "check_no_try_500,time_no_try_500 = generate_sample_error_and_time(number_of_tries[3])\n",
        "print(\"finito\")\n"
      ],
      "execution_count": 0,
      "outputs": [
        {
          "output_type": "stream",
          "text": [
            "50\n",
            "100\n",
            "250\n",
            "finito\n"
          ],
          "name": "stdout"
        }
      ]
    },
    {
      "cell_type": "markdown",
      "metadata": {
        "id": "TQCzT4goq2cd",
        "colab_type": "text"
      },
      "source": [
        "Detailed Look to Data"
      ]
    },
    {
      "cell_type": "code",
      "metadata": {
        "id": "1tz_C1X55fFO",
        "colab_type": "code",
        "colab": {}
      },
      "source": [
        "#check_no_try_200"
      ],
      "execution_count": 0,
      "outputs": []
    },
    {
      "cell_type": "markdown",
      "metadata": {
        "id": "_QwaLubBrEvt",
        "colab_type": "text"
      },
      "source": [
        "Counting Errors For Success Rate"
      ]
    },
    {
      "cell_type": "code",
      "metadata": {
        "id": "1ElncVTP6pJL",
        "colab_type": "code",
        "outputId": "0a9d65a5-78bb-49fb-cbdf-41fd1fc5aae9",
        "colab": {
          "base_uri": "https://localhost:8080/",
          "height": 357
        }
      },
      "source": [
        "error_no_try_50 = []\n",
        "number_of_errors = 0\n",
        "for i in range (0,4):\n",
        "  error_size=[]\n",
        "  for j in range (0,4):\n",
        "    number_of_errors=0\n",
        "    for u in range (0,50):\n",
        "      if check_no_try_50[i][j][u] == \"Error\":\n",
        "        number_of_errors = number_of_errors + 1\n",
        "    error_size.append(round(1 - (number_of_errors/50),5))\n",
        "  error_no_try_50.append(error_size)\n",
        "\n",
        "error_no_try_100 = []\n",
        "number_of_errors = 0\n",
        "for i in range (0,4):\n",
        "  error_size=[]\n",
        "  for j in range (0,4):\n",
        "    number_of_errors=0\n",
        "    for u in range (0,100):\n",
        "      if check_no_try_100[i][j][u] == \"Error\":\n",
        "        number_of_errors = number_of_errors + 1\n",
        "    error_size.append(round(1-(number_of_errors/100),5))\n",
        "  error_no_try_100.append(error_size)\n",
        "\n",
        "error_no_try_250 = []\n",
        "number_of_errors = 0\n",
        "for i in range (0,4):\n",
        "  error_size=[]\n",
        "  for j in range (0,4):\n",
        "    number_of_errors=0\n",
        "    for u in range (0,250):\n",
        "      if check_no_try_250[i][j][u] == \"Error\":\n",
        "        number_of_errors = number_of_errors + 1\n",
        "    error_size.append(round(1-(number_of_errors/250),5))\n",
        "  error_no_try_250.append(error_size)\n",
        "\n",
        "error_no_try_500 = []\n",
        "number_of_errors = 0\n",
        "for i in range (0,4):\n",
        "  error_size=[]\n",
        "  for j in range (0,4):\n",
        "    number_of_errors=0\n",
        "    for u in range (0,500):\n",
        "      if check_no_try_500[i][j][u] == \"Error\":\n",
        "        number_of_errors = number_of_errors + 1\n",
        "    error_size.append(round(1-(number_of_errors/500),5))\n",
        "  error_no_try_500.append(error_size)\n",
        "\n",
        "display(\"error_no_try_50\")\n",
        "display(error_no_try_50)\n",
        "display(\"error_no_try_100\")\n",
        "display(error_no_try_100)\n",
        "display(\"error_no_try_250\")\n",
        "display(error_no_try_250)\n",
        "display(\"error_no_try_500\")\n",
        "display(error_no_try_500)"
      ],
      "execution_count": 0,
      "outputs": [
        {
          "output_type": "display_data",
          "data": {
            "text/plain": [
              "'error_no_try_50'"
            ]
          },
          "metadata": {
            "tags": []
          }
        },
        {
          "output_type": "display_data",
          "data": {
            "text/plain": [
              "[[1.0, 0.96, 1.0, 1.0],\n",
              " [1.0, 1.0, 0.94, 1.0],\n",
              " [1.0, 1.0, 0.96, 0.94],\n",
              " [1.0, 1.0, 1.0, 0.9]]"
            ]
          },
          "metadata": {
            "tags": []
          }
        },
        {
          "output_type": "display_data",
          "data": {
            "text/plain": [
              "'error_no_try_100'"
            ]
          },
          "metadata": {
            "tags": []
          }
        },
        {
          "output_type": "display_data",
          "data": {
            "text/plain": [
              "[[1.0, 0.96, 1.0, 0.99],\n",
              " [1.0, 0.99, 0.95, 1.0],\n",
              " [1.0, 1.0, 0.97, 0.92],\n",
              " [1.0, 1.0, 1.0, 0.86]]"
            ]
          },
          "metadata": {
            "tags": []
          }
        },
        {
          "output_type": "display_data",
          "data": {
            "text/plain": [
              "'error_no_try_250'"
            ]
          },
          "metadata": {
            "tags": []
          }
        },
        {
          "output_type": "display_data",
          "data": {
            "text/plain": [
              "[[1.0, 0.964, 0.996, 1.0],\n",
              " [1.0, 0.996, 0.896, 0.972],\n",
              " [1.0, 1.0, 0.928, 0.92],\n",
              " [1.0, 1.0, 1.0, 0.88]]"
            ]
          },
          "metadata": {
            "tags": []
          }
        },
        {
          "output_type": "display_data",
          "data": {
            "text/plain": [
              "'error_no_try_500'"
            ]
          },
          "metadata": {
            "tags": []
          }
        },
        {
          "output_type": "display_data",
          "data": {
            "text/plain": [
              "[[1.0, 0.958, 0.998, 1.0],\n",
              " [1.0, 0.99, 0.926, 0.986],\n",
              " [1.0, 1.0, 0.942, 0.912],\n",
              " [1.0, 1.0, 1.0, 0.862]]"
            ]
          },
          "metadata": {
            "tags": []
          }
        }
      ]
    },
    {
      "cell_type": "markdown",
      "metadata": {
        "id": "DibPSjvutQXR",
        "colab_type": "text"
      },
      "source": [
        "Number of Vertices vs. Success Rate"
      ]
    },
    {
      "cell_type": "code",
      "metadata": {
        "id": "1-HrIkretQEr",
        "colab_type": "code",
        "outputId": "1b3ff823-ffa5-41b4-fedc-9f4b37871264",
        "colab": {
          "base_uri": "https://localhost:8080/",
          "height": 34
        }
      },
      "source": [
        "error_no_try_500 = []\n",
        "number_of_errors = 0\n",
        "for i in range (0,4):\n",
        "  error_size=[]\n",
        "  number_of_errors=0\n",
        "  for j in range (0,4):\n",
        "    for u in range (0,500):\n",
        "      if check_no_try_500[i][j][u] == \"Error\":\n",
        "        number_of_errors = number_of_errors + 1\n",
        "  error_no_try_500.append(round(1 - (number_of_errors/(500*4)),5))\n",
        "display(error_no_try_500)"
      ],
      "execution_count": 0,
      "outputs": [
        {
          "output_type": "display_data",
          "data": {
            "text/plain": [
              "[0.989, 0.9755, 0.9635, 0.9655]"
            ]
          },
          "metadata": {
            "tags": []
          }
        }
      ]
    },
    {
      "cell_type": "markdown",
      "metadata": {
        "id": "PPWNmv2J5c5k",
        "colab_type": "text"
      },
      "source": [
        "Time Measurement"
      ]
    },
    {
      "cell_type": "code",
      "metadata": {
        "id": "FLtOjsNh5ch7",
        "colab_type": "code",
        "outputId": "432af65e-9e74-46a8-e934-099390b87bcb",
        "colab": {
          "base_uri": "https://localhost:8080/",
          "height": 1000
        }
      },
      "source": [
        "for i in range (0,4):\n",
        "  print(\"Size = \", graph_size_list[i])\n",
        "  display(\"TIME_NO_TRY_50\")\n",
        "  display(\"K=3\")\n",
        "  display(getRunningTime(time_no_try_50[i][0]))\n",
        "  display(\"K=4\")\n",
        "  display(getRunningTime(time_no_try_50[i][1]))\n",
        "  display(\"K=5\")\n",
        "  display(getRunningTime(time_no_try_50[i][2]))\n",
        "  display(\"K=6\")\n",
        "  display(getRunningTime(time_no_try_50[i][3]))\n",
        "\n",
        "  display(\"TIME_NO_TRY_100\")\n",
        "  display(\"K=3\")\n",
        "  display(getRunningTime(time_no_try_100[i][0]))\n",
        "  display(\"K=4\")\n",
        "  display(getRunningTime(time_no_try_100[i][1]))\n",
        "  display(\"K=5\")\n",
        "  display(getRunningTime(time_no_try_100[i][2]))\n",
        "  display(\"K=6\")\n",
        "  display(getRunningTime(time_no_try_100[i][3]))\n",
        "\n",
        "  display(\"TIME_NO_TRY_250\")\n",
        "  display(\"K=3\")\n",
        "  display(getRunningTime(time_no_try_250[i][0]))\n",
        "  display(\"K=4\")\n",
        "  display(getRunningTime(time_no_try_250[i][1]))\n",
        "  display(\"K=5\")\n",
        "  display(getRunningTime(time_no_try_250[i][2]))\n",
        "  display(\"K=6\")\n",
        "  display(getRunningTime(time_no_try_250[i][3]))\n",
        "\n",
        "  display(\"TIME_NO_TRY_500\")\n",
        "  display(\"K=3\")\n",
        "  display(getRunningTime(time_no_try_500[i][0]))\n",
        "  display(\"K=4\")\n",
        "  display(getRunningTime(time_no_try_500[i][1]))\n",
        "  display(\"K=5\")\n",
        "  display(getRunningTime(time_no_try_500[i][2]))\n",
        "  display(\"K=6\")\n",
        "  display(getRunningTime(time_no_try_500[i][3]))\n"
      ],
      "execution_count": 0,
      "outputs": [
        {
          "output_type": "stream",
          "text": [
            "Size =  10\n"
          ],
          "name": "stdout"
        },
        {
          "output_type": "display_data",
          "data": {
            "text/plain": [
              "'TIME_NO_TRY_50'"
            ]
          },
          "metadata": {
            "tags": []
          }
        },
        {
          "output_type": "display_data",
          "data": {
            "text/plain": [
              "'K=3'"
            ]
          },
          "metadata": {
            "tags": []
          }
        },
        {
          "output_type": "display_data",
          "data": {
            "text/plain": [
              "(3.177954210867001e-06,\n",
              " 7.066726684570313e-06,\n",
              " 4.5399345869528583e-07,\n",
              " 7.813545924124057e-06,\n",
              " 6.319907445016567e-06,\n",
              " 7.956553863613073e-06,\n",
              " 6.176899505527553e-06)"
            ]
          },
          "metadata": {
            "tags": []
          }
        },
        {
          "output_type": "display_data",
          "data": {
            "text/plain": [
              "'K=4'"
            ]
          },
          "metadata": {
            "tags": []
          }
        },
        {
          "output_type": "display_data",
          "data": {
            "text/plain": [
              "(1.0754098819475842e-05,\n",
              " 1.5778541564941408e-05,\n",
              " 1.5362998313536917e-06,\n",
              " 1.830575478751823e-05,\n",
              " 1.3251328342364584e-05,\n",
              " 1.8789689234394644e-05,\n",
              " 1.2767393895488172e-05)"
            ]
          },
          "metadata": {
            "tags": []
          }
        },
        {
          "output_type": "display_data",
          "data": {
            "text/plain": [
              "'K=5'"
            ]
          },
          "metadata": {
            "tags": []
          }
        },
        {
          "output_type": "display_data",
          "data": {
            "text/plain": [
              "(1.4292203321649064e-05,\n",
              " 3.345966339111328e-05,\n",
              " 2.0417433316641518e-06,\n",
              " 3.681833117170081e-05,\n",
              " 3.010099561052575e-05,\n",
              " 3.746148032117502e-05,\n",
              " 2.9457846461051546e-05)"
            ]
          },
          "metadata": {
            "tags": []
          }
        },
        {
          "output_type": "display_data",
          "data": {
            "text/plain": [
              "'K=6'"
            ]
          },
          "metadata": {
            "tags": []
          }
        },
        {
          "output_type": "display_data",
          "data": {
            "text/plain": [
              "(1.2634496756044404e-05,\n",
              " 3.5161972045898435e-05,\n",
              " 1.8049281080063434e-06,\n",
              " 3.813107878356887e-05,\n",
              " 3.2192865308228e-05,\n",
              " 3.869963113759087e-05,\n",
              " 3.1624312954206e-05)"
            ]
          },
          "metadata": {
            "tags": []
          }
        },
        {
          "output_type": "display_data",
          "data": {
            "text/plain": [
              "'TIME_NO_TRY_100'"
            ]
          },
          "metadata": {
            "tags": []
          }
        },
        {
          "output_type": "display_data",
          "data": {
            "text/plain": [
              "'K=3'"
            ]
          },
          "metadata": {
            "tags": []
          }
        },
        {
          "output_type": "display_data",
          "data": {
            "text/plain": [
              "(3.0855122592287836e-06,\n",
              " 7.309913635253906e-06,\n",
              " 3.1010564999708124e-07,\n",
              " 7.820037429499106e-06,\n",
              " 6.799789841008708e-06,\n",
              " 7.917720709248185e-06,\n",
              " 6.702106561259627e-06)"
            ]
          },
          "metadata": {
            "tags": []
          }
        },
        {
          "output_type": "display_data",
          "data": {
            "text/plain": [
              "'K=4'"
            ]
          },
          "metadata": {
            "tags": []
          }
        },
        {
          "output_type": "display_data",
          "data": {
            "text/plain": [
              "(1.0178695083420576e-05,\n",
              " 1.725435256958008e-05,\n",
              " 1.0229973468830699e-06,\n",
              " 1.893718320520273e-05,\n",
              " 1.557152193395743e-05,\n",
              " 1.9259427369470897e-05,\n",
              " 1.5249277769689263e-05)"
            ]
          },
          "metadata": {
            "tags": []
          }
        },
        {
          "output_type": "display_data",
          "data": {
            "text/plain": [
              "'K=5'"
            ]
          },
          "metadata": {
            "tags": []
          }
        },
        {
          "output_type": "display_data",
          "data": {
            "text/plain": [
              "(9.678634740876079e-06,\n",
              " 3.1249523162841795e-05,\n",
              " 9.727393914662005e-07,\n",
              " 3.284967946180369e-05,\n",
              " 2.9649366863879895e-05,\n",
              " 3.315609237011555e-05,\n",
              " 2.934295395556804e-05)"
            ]
          },
          "metadata": {
            "tags": []
          }
        },
        {
          "output_type": "display_data",
          "data": {
            "text/plain": [
              "'K=6'"
            ]
          },
          "metadata": {
            "tags": []
          }
        },
        {
          "output_type": "display_data",
          "data": {
            "text/plain": [
              "(8.393247985377658e-06,\n",
              " 3.516912460327148e-05,\n",
              " 8.435531618152743e-07,\n",
              " 3.655676955445761e-05,\n",
              " 3.378147965208536e-05,\n",
              " 3.682248880042942e-05,\n",
              " 3.3515760406113544e-05)"
            ]
          },
          "metadata": {
            "tags": []
          }
        },
        {
          "output_type": "display_data",
          "data": {
            "text/plain": [
              "'TIME_NO_TRY_250'"
            ]
          },
          "metadata": {
            "tags": []
          }
        },
        {
          "output_type": "display_data",
          "data": {
            "text/plain": [
              "'K=3'"
            ]
          },
          "metadata": {
            "tags": []
          }
        },
        {
          "output_type": "display_data",
          "data": {
            "text/plain": [
              "(4.536271858092466e-06,\n",
              " 8.994102478027343e-06,\n",
              " 2.8747454834449285e-07,\n",
              " 9.466998110054034e-06,\n",
              " 8.521206846000652e-06,\n",
              " 9.557552592782549e-06,\n",
              " 8.430652363272137e-06)"
            ]
          },
          "metadata": {
            "tags": []
          }
        },
        {
          "output_type": "display_data",
          "data": {
            "text/plain": [
              "'K=4'"
            ]
          },
          "metadata": {
            "tags": []
          }
        },
        {
          "output_type": "display_data",
          "data": {
            "text/plain": [
              "(1.2765471176602247e-05,\n",
              " 2.083587646484375e-05,\n",
              " 8.089788653984085e-07,\n",
              " 2.2166646698424132e-05,\n",
              " 1.9505106231263366e-05,\n",
              " 2.2421475041024628e-05,\n",
              " 1.925027788866287e-05)"
            ]
          },
          "metadata": {
            "tags": []
          }
        },
        {
          "output_type": "display_data",
          "data": {
            "text/plain": [
              "'K=5'"
            ]
          },
          "metadata": {
            "tags": []
          }
        },
        {
          "output_type": "display_data",
          "data": {
            "text/plain": [
              "(1.2641538565425026e-05,\n",
              " 3.2288551330566406e-05,\n",
              " 8.011249552850258e-07,\n",
              " 3.360640188201027e-05,\n",
              " 3.097070077912254e-05,\n",
              " 3.385875624292505e-05,\n",
              " 3.071834641820776e-05)"
            ]
          },
          "metadata": {
            "tags": []
          }
        },
        {
          "output_type": "display_data",
          "data": {
            "text/plain": [
              "'K=6'"
            ]
          },
          "metadata": {
            "tags": []
          }
        },
        {
          "output_type": "display_data",
          "data": {
            "text/plain": [
              "(9.109931165489596e-06,\n",
              " 3.7059783935546874e-05,\n",
              " 5.773184300179478e-07,\n",
              " 3.80094727529264e-05,\n",
              " 3.611009511816735e-05,\n",
              " 3.8191328058382056e-05,\n",
              " 3.592823981271169e-05)"
            ]
          },
          "metadata": {
            "tags": []
          }
        },
        {
          "output_type": "display_data",
          "data": {
            "text/plain": [
              "'TIME_NO_TRY_500'"
            ]
          },
          "metadata": {
            "tags": []
          }
        },
        {
          "output_type": "display_data",
          "data": {
            "text/plain": [
              "'K=3'"
            ]
          },
          "metadata": {
            "tags": []
          }
        },
        {
          "output_type": "display_data",
          "data": {
            "text/plain": [
              "(4.932666384892755e-06,\n",
              " 1.0523319244384765e-05,\n",
              " 2.2081647393168193e-07,\n",
              " 1.0886562344002382e-05,\n",
              " 1.0160076144767149e-05,\n",
              " 1.0956119533290861e-05,\n",
              " 1.0090518955478669e-05)"
            ]
          },
          "metadata": {
            "tags": []
          }
        },
        {
          "output_type": "display_data",
          "data": {
            "text/plain": [
              "'K=4'"
            ]
          },
          "metadata": {
            "tags": []
          }
        },
        {
          "output_type": "display_data",
          "data": {
            "text/plain": [
              "(1.3939634990293201e-05,\n",
              " 2.1293163299560547e-05,\n",
              " 6.240237644853744e-07,\n",
              " 2.231968239213899e-05,\n",
              " 2.0266644206982106e-05,\n",
              " 2.251624987795188e-05,\n",
              " 2.0070076721169215e-05)"
            ]
          },
          "metadata": {
            "tags": []
          }
        },
        {
          "output_type": "display_data",
          "data": {
            "text/plain": [
              "'K=5'"
            ]
          },
          "metadata": {
            "tags": []
          }
        },
        {
          "output_type": "display_data",
          "data": {
            "text/plain": [
              "(1.1124444895722658e-05,\n",
              " 3.5434722900390624e-05,\n",
              " 4.979985477720853e-07,\n",
              " 3.6253930511475706e-05,\n",
              " 3.461551528930554e-05,\n",
              " 3.641080005402391e-05,\n",
              " 3.445864574675734e-05)"
            ]
          },
          "metadata": {
            "tags": []
          }
        },
        {
          "output_type": "display_data",
          "data": {
            "text/plain": [
              "'K=6'"
            ]
          },
          "metadata": {
            "tags": []
          }
        },
        {
          "output_type": "display_data",
          "data": {
            "text/plain": [
              "(9.27703224187748e-06,\n",
              " 3.8395881652832034e-05,\n",
              " 4.1529699930161603e-07,\n",
              " 3.907904521668319e-05,\n",
              " 3.771271808898088e-05,\n",
              " 3.92098637714632e-05,\n",
              " 3.758189953420087e-05)"
            ]
          },
          "metadata": {
            "tags": []
          }
        },
        {
          "output_type": "stream",
          "text": [
            "Size =  15\n"
          ],
          "name": "stdout"
        },
        {
          "output_type": "display_data",
          "data": {
            "text/plain": [
              "'TIME_NO_TRY_50'"
            ]
          },
          "metadata": {
            "tags": []
          }
        },
        {
          "output_type": "display_data",
          "data": {
            "text/plain": [
              "'K=3'"
            ]
          },
          "metadata": {
            "tags": []
          }
        },
        {
          "output_type": "display_data",
          "data": {
            "text/plain": [
              "(2.8596755669758815e-06,\n",
              " 6.833076477050781e-06,\n",
              " 4.085250809965545e-07,\n",
              " 7.5051002352901135e-06,\n",
              " 6.161052718811449e-06,\n",
              " 7.633785635804028e-06,\n",
              " 6.032367318297534e-06)"
            ]
          },
          "metadata": {
            "tags": []
          }
        },
        {
          "output_type": "display_data",
          "data": {
            "text/plain": [
              "'K=4'"
            ]
          },
          "metadata": {
            "tags": []
          }
        },
        {
          "output_type": "display_data",
          "data": {
            "text/plain": [
              "(1.315479214819311e-05,\n",
              " 1.4486312866210937e-05,\n",
              " 1.8792560211704442e-06,\n",
              " 1.7577689021036317e-05,\n",
              " 1.1394936711385557e-05,\n",
              " 1.8169654667705007e-05,\n",
              " 1.0802971064716867e-05)"
            ]
          },
          "metadata": {
            "tags": []
          }
        },
        {
          "output_type": "display_data",
          "data": {
            "text/plain": [
              "'K=5'"
            ]
          },
          "metadata": {
            "tags": []
          }
        },
        {
          "output_type": "display_data",
          "data": {
            "text/plain": [
              "(2.6376544269193546e-05,\n",
              " 4.941463470458984e-05,\n",
              " 3.7680777527419354e-06,\n",
              " 5.561312260785032e-05,\n",
              " 4.321614680132936e-05,\n",
              " 5.680006709996404e-05,\n",
              " 4.2029202309215645e-05)"
            ]
          },
          "metadata": {
            "tags": []
          }
        },
        {
          "output_type": "display_data",
          "data": {
            "text/plain": [
              "'K=6'"
            ]
          },
          "metadata": {
            "tags": []
          }
        },
        {
          "output_type": "display_data",
          "data": {
            "text/plain": [
              "(1.6210741063803573e-05,\n",
              " 7.756233215332031e-05,\n",
              " 2.315820151971939e-06,\n",
              " 8.137185630331415e-05,\n",
              " 7.375280800332647e-05,\n",
              " 8.210133965118532e-05,\n",
              " 7.30233246554553e-05)"
            ]
          },
          "metadata": {
            "tags": []
          }
        },
        {
          "output_type": "display_data",
          "data": {
            "text/plain": [
              "'TIME_NO_TRY_100'"
            ]
          },
          "metadata": {
            "tags": []
          }
        },
        {
          "output_type": "display_data",
          "data": {
            "text/plain": [
              "'K=3'"
            ]
          },
          "metadata": {
            "tags": []
          }
        },
        {
          "output_type": "display_data",
          "data": {
            "text/plain": [
              "(1.925824504634416e-06,\n",
              " 7.79867172241211e-06,\n",
              " 1.9355264527104278e-07,\n",
              " 8.117065823882974e-06,\n",
              " 7.480277620941244e-06,\n",
              " 8.178034907143354e-06,\n",
              " 7.419308537680866e-06)"
            ]
          },
          "metadata": {
            "tags": []
          }
        },
        {
          "output_type": "display_data",
          "data": {
            "text/plain": [
              "'K=4'"
            ]
          },
          "metadata": {
            "tags": []
          }
        },
        {
          "output_type": "display_data",
          "data": {
            "text/plain": [
              "(1.0920675505029433e-05,\n",
              " 1.4939308166503905e-05,\n",
              " 1.0975691850729573e-06,\n",
              " 1.674480947594892e-05,\n",
              " 1.3133806857058891e-05,\n",
              " 1.7090543769246902e-05,\n",
              " 1.2788072563760908e-05)"
            ]
          },
          "metadata": {
            "tags": []
          }
        },
        {
          "output_type": "display_data",
          "data": {
            "text/plain": [
              "'K=5'"
            ]
          },
          "metadata": {
            "tags": []
          }
        },
        {
          "output_type": "display_data",
          "data": {
            "text/plain": [
              "(3.109882850633784e-05,\n",
              " 5.032062530517578e-05,\n",
              " 3.125549865913069e-06,\n",
              " 5.546215483460278e-05,\n",
              " 4.5179095775748784e-05,\n",
              " 5.6446703042365394e-05,\n",
              " 4.419454756798617e-05)"
            ]
          },
          "metadata": {
            "tags": []
          }
        },
        {
          "output_type": "display_data",
          "data": {
            "text/plain": [
              "'K=6'"
            ]
          },
          "metadata": {
            "tags": []
          }
        },
        {
          "output_type": "display_data",
          "data": {
            "text/plain": [
              "(1.528691069713978e-05,\n",
              " 7.695674896240234e-05,\n",
              " 1.5363923329116043e-06,\n",
              " 7.948411435004193e-05,\n",
              " 7.442938357476275e-05,\n",
              " 7.996807793490909e-05,\n",
              " 7.394541998989559e-05)"
            ]
          },
          "metadata": {
            "tags": []
          }
        },
        {
          "output_type": "display_data",
          "data": {
            "text/plain": [
              "'TIME_NO_TRY_250'"
            ]
          },
          "metadata": {
            "tags": []
          }
        },
        {
          "output_type": "display_data",
          "data": {
            "text/plain": [
              "'K=3'"
            ]
          },
          "metadata": {
            "tags": []
          }
        },
        {
          "output_type": "display_data",
          "data": {
            "text/plain": [
              "(3.6501246284173445e-06,\n",
              " 9.998321533203125e-06,\n",
              " 2.31317249446472e-07,\n",
              " 1.0378838408542571e-05,\n",
              " 9.617804657863679e-06,\n",
              " 1.045170334211821e-05,\n",
              " 9.54493972428804e-06)"
            ]
          },
          "metadata": {
            "tags": []
          }
        },
        {
          "output_type": "display_data",
          "data": {
            "text/plain": [
              "'K=4'"
            ]
          },
          "metadata": {
            "tags": []
          }
        },
        {
          "output_type": "display_data",
          "data": {
            "text/plain": [
              "(1.310556792901101e-05,\n",
              " 1.8475532531738282e-05,\n",
              " 8.305316213510138e-07,\n",
              " 1.98417570488607e-05,\n",
              " 1.7109308014615866e-05,\n",
              " 2.010337450958627e-05,\n",
              " 1.6847690553890295e-05)"
            ]
          },
          "metadata": {
            "tags": []
          }
        },
        {
          "output_type": "display_data",
          "data": {
            "text/plain": [
              "'K=5'"
            ]
          },
          "metadata": {
            "tags": []
          }
        },
        {
          "output_type": "display_data",
          "data": {
            "text/plain": [
              "(3.169187211163519e-05,\n",
              " 5.1836967468261716e-05,\n",
              " 2.008390790166362e-06,\n",
              " 5.514077031808538e-05,\n",
              " 4.853316461843805e-05,\n",
              " 5.577341341698779e-05,\n",
              " 4.7900521519535645e-05)"
            ]
          },
          "metadata": {
            "tags": []
          }
        },
        {
          "output_type": "display_data",
          "data": {
            "text/plain": [
              "'K=6'"
            ]
          },
          "metadata": {
            "tags": []
          }
        },
        {
          "output_type": "display_data",
          "data": {
            "text/plain": [
              "(1.904297727518166e-05,\n",
              " 7.935810089111328e-05,\n",
              " 1.2067996501469162e-06,\n",
              " 8.134328631560496e-05,\n",
              " 7.73729154666216e-05,\n",
              " 8.172342820540124e-05,\n",
              " 7.699277357682532e-05)"
            ]
          },
          "metadata": {
            "tags": []
          }
        },
        {
          "output_type": "display_data",
          "data": {
            "text/plain": [
              "'TIME_NO_TRY_500'"
            ]
          },
          "metadata": {
            "tags": []
          }
        },
        {
          "output_type": "display_data",
          "data": {
            "text/plain": [
              "'K=3'"
            ]
          },
          "metadata": {
            "tags": []
          }
        },
        {
          "output_type": "display_data",
          "data": {
            "text/plain": [
              "(5.088728317197368e-06,\n",
              " 1.2145042419433593e-05,\n",
              " 2.2780276550656177e-07,\n",
              " 1.2519777968691887e-05,\n",
              " 1.17703068701753e-05,\n",
              " 1.2591535839826454e-05,\n",
              " 1.1698548999040732e-05)"
            ]
          },
          "metadata": {
            "tags": []
          }
        },
        {
          "output_type": "display_data",
          "data": {
            "text/plain": [
              "'K=4'"
            ]
          },
          "metadata": {
            "tags": []
          }
        },
        {
          "output_type": "display_data",
          "data": {
            "text/plain": [
              "(1.304669207819454e-05,\n",
              " 1.969003677368164e-05,\n",
              " 5.840501498343197e-07,\n",
              " 2.0650799270159095e-05,\n",
              " 1.8729274277204186e-05,\n",
              " 2.0834775067356908e-05,\n",
              " 1.8545298480006373e-05)"
            ]
          },
          "metadata": {
            "tags": []
          }
        },
        {
          "output_type": "display_data",
          "data": {
            "text/plain": [
              "'K=5'"
            ]
          },
          "metadata": {
            "tags": []
          }
        },
        {
          "output_type": "display_data",
          "data": {
            "text/plain": [
              "(2.9524029525205676e-05,\n",
              " 5.5964946746826174e-05,\n",
              " 1.3216770783399595e-06,\n",
              " 5.8139105540695405e-05,\n",
              " 5.379078795295694e-05,\n",
              " 5.855543382037249e-05,\n",
              " 5.3374459673279855e-05)"
            ]
          },
          "metadata": {
            "tags": []
          }
        },
        {
          "output_type": "display_data",
          "data": {
            "text/plain": [
              "'K=6'"
            ]
          },
          "metadata": {
            "tags": []
          }
        },
        {
          "output_type": "display_data",
          "data": {
            "text/plain": [
              "(1.9140428722523455e-05,\n",
              " 8.01377296447754e-05,\n",
              " 8.568432669585881e-07,\n",
              " 8.154723681892227e-05,\n",
              " 7.872822247062852e-05,\n",
              " 8.181714244801423e-05,\n",
              " 7.845831684153655e-05)"
            ]
          },
          "metadata": {
            "tags": []
          }
        },
        {
          "output_type": "stream",
          "text": [
            "Size =  20\n"
          ],
          "name": "stdout"
        },
        {
          "output_type": "display_data",
          "data": {
            "text/plain": [
              "'TIME_NO_TRY_50'"
            ]
          },
          "metadata": {
            "tags": []
          }
        },
        {
          "output_type": "display_data",
          "data": {
            "text/plain": [
              "'K=3'"
            ]
          },
          "metadata": {
            "tags": []
          }
        },
        {
          "output_type": "display_data",
          "data": {
            "text/plain": [
              "(2.844768284718996e-06,\n",
              " 7.262229919433594e-06,\n",
              " 4.0639546924557085e-07,\n",
              " 7.930750466342558e-06,\n",
              " 6.59370937252463e-06,\n",
              " 8.058765039154914e-06,\n",
              " 6.465694799712275e-06)"
            ]
          },
          "metadata": {
            "tags": []
          }
        },
        {
          "output_type": "display_data",
          "data": {
            "text/plain": [
              "'K=4'"
            ]
          },
          "metadata": {
            "tags": []
          }
        },
        {
          "output_type": "display_data",
          "data": {
            "text/plain": [
              "(1.1117114489819347e-05,\n",
              " 1.2693405151367188e-05,\n",
              " 1.588159212831335e-06,\n",
              " 1.5305927056474735e-05,\n",
              " 1.0080883246259641e-05,\n",
              " 1.5806197208516604e-05,\n",
              " 9.580613094217772e-06)"
            ]
          },
          "metadata": {
            "tags": []
          }
        },
        {
          "output_type": "display_data",
          "data": {
            "text/plain": [
              "'K=5'"
            ]
          },
          "metadata": {
            "tags": []
          }
        },
        {
          "output_type": "display_data",
          "data": {
            "text/plain": [
              "(4.095064105663546e-05,\n",
              " 4.3234825134277345e-05,\n",
              " 5.850091579519352e-06,\n",
              " 5.285822578258668e-05,\n",
              " 3.361142448596801e-05,\n",
              " 5.4701004630135275e-05,\n",
              " 3.1768645638419414e-05)"
            ]
          },
          "metadata": {
            "tags": []
          }
        },
        {
          "output_type": "display_data",
          "data": {
            "text/plain": [
              "'K=6'"
            ]
          },
          "metadata": {
            "tags": []
          }
        },
        {
          "output_type": "display_data",
          "data": {
            "text/plain": [
              "(6.18938150675074e-05,\n",
              " 0.00013385772705078126,\n",
              " 8.841973581072485e-06,\n",
              " 0.0001484027735916455,\n",
              " 0.00011931268050991702,\n",
              " 0.00015118799526968335,\n",
              " 0.00011652745883187919)"
            ]
          },
          "metadata": {
            "tags": []
          }
        },
        {
          "output_type": "display_data",
          "data": {
            "text/plain": [
              "'TIME_NO_TRY_100'"
            ]
          },
          "metadata": {
            "tags": []
          }
        },
        {
          "output_type": "display_data",
          "data": {
            "text/plain": [
              "'K=3'"
            ]
          },
          "metadata": {
            "tags": []
          }
        },
        {
          "output_type": "display_data",
          "data": {
            "text/plain": [
              "(5.038128708848714e-06,\n",
              " 1.070261001586914e-05,\n",
              " 5.063509870536027e-07,\n",
              " 1.1535557389572317e-05,\n",
              " 9.869662642165965e-06,\n",
              " 1.1695057950494202e-05,\n",
              " 9.71016208124408e-06)"
            ]
          },
          "metadata": {
            "tags": []
          }
        },
        {
          "output_type": "display_data",
          "data": {
            "text/plain": [
              "'K=4'"
            ]
          },
          "metadata": {
            "tags": []
          }
        },
        {
          "output_type": "display_data",
          "data": {
            "text/plain": [
              "(5.412416301946435e-06,\n",
              " 1.3587474822998047e-05,\n",
              " 5.439683055381589e-07,\n",
              " 1.448230268560832e-05,\n",
              " 1.2692646960387775e-05,\n",
              " 1.4653652701852839e-05,\n",
              " 1.2521296944143256e-05)"
            ]
          },
          "metadata": {
            "tags": []
          }
        },
        {
          "output_type": "display_data",
          "data": {
            "text/plain": [
              "'K=5'"
            ]
          },
          "metadata": {
            "tags": []
          }
        },
        {
          "output_type": "display_data",
          "data": {
            "text/plain": [
              "(4.377210702385516e-05,\n",
              " 4.663228988647461e-05,\n",
              " 4.39926228125478e-06,\n",
              " 5.386907633913872e-05,\n",
              " 3.93955034338105e-05,\n",
              " 5.5254843957733976e-05,\n",
              " 3.8009735815215244e-05)"
            ]
          },
          "metadata": {
            "tags": []
          }
        },
        {
          "output_type": "display_data",
          "data": {
            "text/plain": [
              "'K=6'"
            ]
          },
          "metadata": {
            "tags": []
          }
        },
        {
          "output_type": "display_data",
          "data": {
            "text/plain": [
              "(4.2903835753599186e-05,\n",
              " 0.00012837171554565428,\n",
              " 4.31199773520374e-06,\n",
              " 0.00013546495182006443,\n",
              " 0.00012127847927124414,\n",
              " 0.00013682323110665362,\n",
              " 0.00011992019998465495)"
            ]
          },
          "metadata": {
            "tags": []
          }
        },
        {
          "output_type": "display_data",
          "data": {
            "text/plain": [
              "'TIME_NO_TRY_250'"
            ]
          },
          "metadata": {
            "tags": []
          }
        },
        {
          "output_type": "display_data",
          "data": {
            "text/plain": [
              "'K=3'"
            ]
          },
          "metadata": {
            "tags": []
          }
        },
        {
          "output_type": "display_data",
          "data": {
            "text/plain": [
              "(4.96867064543476e-06,\n",
              " 1.2722015380859375e-05,\n",
              " 3.1487670808811175e-07,\n",
              " 1.323998756566432e-05,\n",
              " 1.220404319605443e-05,\n",
              " 1.3339173728712074e-05,\n",
              " 1.2104857033006676e-05)"
            ]
          },
          "metadata": {
            "tags": []
          }
        },
        {
          "output_type": "display_data",
          "data": {
            "text/plain": [
              "'K=4'"
            ]
          },
          "metadata": {
            "tags": []
          }
        },
        {
          "output_type": "display_data",
          "data": {
            "text/plain": [
              "(9.433854122140003e-06,\n",
              " 1.698493957519531e-05,\n",
              " 5.97846213311043e-07,\n",
              " 1.7968396596091977e-05,\n",
              " 1.6001482554298645e-05,\n",
              " 1.8156718153284955e-05,\n",
              " 1.5813160997105668e-05)"
            ]
          },
          "metadata": {
            "tags": []
          }
        },
        {
          "output_type": "display_data",
          "data": {
            "text/plain": [
              "'K=5'"
            ]
          },
          "metadata": {
            "tags": []
          }
        },
        {
          "output_type": "display_data",
          "data": {
            "text/plain": [
              "(4.413413367783886e-05,\n",
              " 5.2681922912597656e-05,\n",
              " 2.7968870787535554e-06,\n",
              " 5.7282802157147257e-05,\n",
              " 4.8081043668048055e-05,\n",
              " 5.816382158695462e-05,\n",
              " 4.720002423824069e-05)"
            ]
          },
          "metadata": {
            "tags": []
          }
        },
        {
          "output_type": "display_data",
          "data": {
            "text/plain": [
              "'K=6'"
            ]
          },
          "metadata": {
            "tags": []
          }
        },
        {
          "output_type": "display_data",
          "data": {
            "text/plain": [
              "(5.091663267888272e-05,\n",
              " 0.00013256549835205078,\n",
              " 3.2267104883655094e-06,\n",
              " 0.00013787343710541203,\n",
              " 0.00012725755959868952,\n",
              " 0.00013888985090924717,\n",
              " 0.00012624114579485438)"
            ]
          },
          "metadata": {
            "tags": []
          }
        },
        {
          "output_type": "display_data",
          "data": {
            "text/plain": [
              "'TIME_NO_TRY_500'"
            ]
          },
          "metadata": {
            "tags": []
          }
        },
        {
          "output_type": "display_data",
          "data": {
            "text/plain": [
              "'K=3'"
            ]
          },
          "metadata": {
            "tags": []
          }
        },
        {
          "output_type": "display_data",
          "data": {
            "text/plain": [
              "(5.069451251626033e-06,\n",
              " 1.271963119506836e-05,\n",
              " 2.2693980553419295e-07,\n",
              " 1.3092947175172107e-05,\n",
              " 1.2346315214964612e-05,\n",
              " 1.3164433213915378e-05,\n",
              " 1.2274829176221341e-05)"
            ]
          },
          "metadata": {
            "tags": []
          }
        },
        {
          "output_type": "display_data",
          "data": {
            "text/plain": [
              "'K=4'"
            ]
          },
          "metadata": {
            "tags": []
          }
        },
        {
          "output_type": "display_data",
          "data": {
            "text/plain": [
              "(9.076190305170828e-06,\n",
              " 1.8070697784423827e-05,\n",
              " 4.063060794175953e-07,\n",
              " 1.8739071285065773e-05,\n",
              " 1.7402324283781882e-05,\n",
              " 1.8867057700082313e-05,\n",
              " 1.7274337868765342e-05)"
            ]
          },
          "metadata": {
            "tags": []
          }
        },
        {
          "output_type": "display_data",
          "data": {
            "text/plain": [
              "'K=5'"
            ]
          },
          "metadata": {
            "tags": []
          }
        },
        {
          "output_type": "display_data",
          "data": {
            "text/plain": [
              "(4.221394568911998e-05,\n",
              " 5.03692626953125e-05,\n",
              " 1.8897557447558184e-06,\n",
              " 5.3477910895435824e-05,\n",
              " 4.726061449518918e-05,\n",
              " 5.4073183955033906e-05,\n",
              " 4.66653414355911e-05)"
            ]
          },
          "metadata": {
            "tags": []
          }
        },
        {
          "output_type": "display_data",
          "data": {
            "text/plain": [
              "'K=6'"
            ]
          },
          "metadata": {
            "tags": []
          }
        },
        {
          "output_type": "display_data",
          "data": {
            "text/plain": [
              "(5.000617575437618e-05,\n",
              " 0.00012437200546264648,\n",
              " 2.2385838699142813e-06,\n",
              " 0.00012805447592865549,\n",
              " 0.0001206895349966375,\n",
              " 0.00012875962984767848,\n",
              " 0.00011998438107761449)"
            ]
          },
          "metadata": {
            "tags": []
          }
        },
        {
          "output_type": "stream",
          "text": [
            "Size =  30\n"
          ],
          "name": "stdout"
        },
        {
          "output_type": "display_data",
          "data": {
            "text/plain": [
              "'TIME_NO_TRY_50'"
            ]
          },
          "metadata": {
            "tags": []
          }
        },
        {
          "output_type": "display_data",
          "data": {
            "text/plain": [
              "'K=3'"
            ]
          },
          "metadata": {
            "tags": []
          }
        },
        {
          "output_type": "display_data",
          "data": {
            "text/plain": [
              "(3.6486736832267433e-06,\n",
              " 1.0557174682617188e-05,\n",
              " 5.212390976038205e-07,\n",
              " 1.1414612998175472e-05,\n",
              " 9.699736367058903e-06,\n",
              " 1.1578803313920676e-05,\n",
              " 9.5355460513137e-06)"
            ]
          },
          "metadata": {
            "tags": []
          }
        },
        {
          "output_type": "display_data",
          "data": {
            "text/plain": [
              "'K=4'"
            ]
          },
          "metadata": {
            "tags": []
          }
        },
        {
          "output_type": "display_data",
          "data": {
            "text/plain": [
              "(9.917575558946111e-06,\n",
              " 1.5420913696289064e-05,\n",
              " 1.416796508420873e-06,\n",
              " 1.77515439526414e-05,\n",
              " 1.3090283439936728e-05,\n",
              " 1.8197834852793974e-05,\n",
              " 1.2643992539784154e-05)"
            ]
          },
          "metadata": {
            "tags": []
          }
        },
        {
          "output_type": "display_data",
          "data": {
            "text/plain": [
              "'K=5'"
            ]
          },
          "metadata": {
            "tags": []
          }
        },
        {
          "output_type": "display_data",
          "data": {
            "text/plain": [
              "(2.6981201414818602e-05,\n",
              " 3.390789031982422e-05,\n",
              " 3.854457344974086e-06,\n",
              " 4.024847265230659e-05,\n",
              " 2.7567307987341846e-05,\n",
              " 4.1462626715973426e-05,\n",
              " 2.635315392367501e-05)"
            ]
          },
          "metadata": {
            "tags": []
          }
        },
        {
          "output_type": "display_data",
          "data": {
            "text/plain": [
              "'K=6'"
            ]
          },
          "metadata": {
            "tags": []
          }
        },
        {
          "output_type": "display_data",
          "data": {
            "text/plain": [
              "(0.00013526777089503732,\n",
              " 0.0001592254638671875,\n",
              " 1.9323967270719614e-05,\n",
              " 0.00019101339002752126,\n",
              " 0.00012743753770685375,\n",
              " 0.00019710043971779795,\n",
              " 0.00012135048801657707)"
            ]
          },
          "metadata": {
            "tags": []
          }
        },
        {
          "output_type": "display_data",
          "data": {
            "text/plain": [
              "'TIME_NO_TRY_100'"
            ]
          },
          "metadata": {
            "tags": []
          }
        },
        {
          "output_type": "display_data",
          "data": {
            "text/plain": [
              "'K=3'"
            ]
          },
          "metadata": {
            "tags": []
          }
        },
        {
          "output_type": "display_data",
          "data": {
            "text/plain": [
              "(8.252770177380417e-06,\n",
              " 1.4243125915527344e-05,\n",
              " 8.294346108910795e-07,\n",
              " 1.560754585044317e-05,\n",
              " 1.2878705980611518e-05,\n",
              " 1.586881775287386e-05,\n",
              " 1.2617434078180828e-05)"
            ]
          },
          "metadata": {
            "tags": []
          }
        },
        {
          "output_type": "display_data",
          "data": {
            "text/plain": [
              "'K=4'"
            ]
          },
          "metadata": {
            "tags": []
          }
        },
        {
          "output_type": "display_data",
          "data": {
            "text/plain": [
              "(8.031431260835984e-06,\n",
              " 1.7085075378417968e-05,\n",
              " 8.071892127795136e-07,\n",
              " 1.8412901633440268e-05,\n",
              " 1.5757249123395668e-05,\n",
              " 1.8667166235465815e-05,\n",
              " 1.550298452137012e-05)"
            ]
          },
          "metadata": {
            "tags": []
          }
        },
        {
          "output_type": "display_data",
          "data": {
            "text/plain": [
              "'K=5'"
            ]
          },
          "metadata": {
            "tags": []
          }
        },
        {
          "output_type": "display_data",
          "data": {
            "text/plain": [
              "(2.6110435372491455e-05,\n",
              " 3.459692001342774e-05,\n",
              " 2.6241974922235663e-06,\n",
              " 3.8913724888135504e-05,\n",
              " 3.028011513871997e-05,\n",
              " 3.974034709818593e-05,\n",
              " 2.945349292866955e-05)"
            ]
          },
          "metadata": {
            "tags": []
          }
        },
        {
          "output_type": "display_data",
          "data": {
            "text/plain": [
              "'K=6'"
            ]
          },
          "metadata": {
            "tags": []
          }
        },
        {
          "output_type": "display_data",
          "data": {
            "text/plain": [
              "(0.00013296516755298865,\n",
              " 0.00016148805618286134,\n",
              " 1.336350215030308e-05,\n",
              " 0.0001834710172201099,\n",
              " 0.00013950509514561277,\n",
              " 0.00018768052039745537,\n",
              " 0.0001352955919682673)"
            ]
          },
          "metadata": {
            "tags": []
          }
        },
        {
          "output_type": "display_data",
          "data": {
            "text/plain": [
              "'TIME_NO_TRY_250'"
            ]
          },
          "metadata": {
            "tags": []
          }
        },
        {
          "output_type": "display_data",
          "data": {
            "text/plain": [
              "'K=3'"
            ]
          },
          "metadata": {
            "tags": []
          }
        },
        {
          "output_type": "display_data",
          "data": {
            "text/plain": [
              "(4.800535444239857e-06,\n",
              " 1.42669677734375e-05,\n",
              " 3.042215726517095e-07,\n",
              " 1.4767412260449563e-05,\n",
              " 1.3766523286425439e-05,\n",
              " 1.4863242055834852e-05,\n",
              " 1.367069349104015e-05)"
            ]
          },
          "metadata": {
            "tags": []
          }
        },
        {
          "output_type": "display_data",
          "data": {
            "text/plain": [
              "'K=4'"
            ]
          },
          "metadata": {
            "tags": []
          }
        },
        {
          "output_type": "display_data",
          "data": {
            "text/plain": [
              "(5.729228597872052e-06,\n",
              " 1.7396926879882813e-05,\n",
              " 3.630751099269871e-07,\n",
              " 1.7994185435712708e-05,\n",
              " 1.679966832405292e-05,\n",
              " 1.8108554095339707e-05,\n",
              " 1.668529966442592e-05)"
            ]
          },
          "metadata": {
            "tags": []
          }
        },
        {
          "output_type": "display_data",
          "data": {
            "text/plain": [
              "'K=5'"
            ]
          },
          "metadata": {
            "tags": []
          }
        },
        {
          "output_type": "display_data",
          "data": {
            "text/plain": [
              "(3.293764363909082e-05,\n",
              " 3.678131103515625e-05,\n",
              " 2.0873383529225164e-06,\n",
              " 4.0214982625713787e-05,\n",
              " 3.334763944459871e-05,\n",
              " 4.087249420688438e-05,\n",
              " 3.269012786342812e-05)"
            ]
          },
          "metadata": {
            "tags": []
          }
        },
        {
          "output_type": "display_data",
          "data": {
            "text/plain": [
              "'K=6'"
            ]
          },
          "metadata": {
            "tags": []
          }
        },
        {
          "output_type": "display_data",
          "data": {
            "text/plain": [
              "(0.00012738690008047551,\n",
              " 0.00016453456878662108,\n",
              " 8.07281677801359e-06,\n",
              " 0.00017781435238645345,\n",
              " 0.00015125478518678871,\n",
              " 0.00018035728967152773,\n",
              " 0.00014871184790171444)"
            ]
          },
          "metadata": {
            "tags": []
          }
        },
        {
          "output_type": "display_data",
          "data": {
            "text/plain": [
              "'TIME_NO_TRY_500'"
            ]
          },
          "metadata": {
            "tags": []
          }
        },
        {
          "output_type": "display_data",
          "data": {
            "text/plain": [
              "'K=3'"
            ]
          },
          "metadata": {
            "tags": []
          }
        },
        {
          "output_type": "display_data",
          "data": {
            "text/plain": [
              "(4.762660039142338e-06,\n",
              " 1.4688491821289062e-05,\n",
              " 2.1320594467926954e-07,\n",
              " 1.503921560028646e-05,\n",
              " 1.4337768042291663e-05,\n",
              " 1.510637547286043e-05,\n",
              " 1.4270608169717693e-05)"
            ]
          },
          "metadata": {
            "tags": []
          }
        },
        {
          "output_type": "display_data",
          "data": {
            "text/plain": [
              "'K=4'"
            ]
          },
          "metadata": {
            "tags": []
          }
        },
        {
          "output_type": "display_data",
          "data": {
            "text/plain": [
              "(7.424120265373111e-06,\n",
              " 1.85394287109375e-05,\n",
              " 3.323492673385159e-07,\n",
              " 1.908614325570936e-05,\n",
              " 1.799271416616564e-05,\n",
              " 1.9190833274920992e-05,\n",
              " 1.788802414695401e-05)"
            ]
          },
          "metadata": {
            "tags": []
          }
        },
        {
          "output_type": "display_data",
          "data": {
            "text/plain": [
              "'K=5'"
            ]
          },
          "metadata": {
            "tags": []
          }
        },
        {
          "output_type": "display_data",
          "data": {
            "text/plain": [
              "(2.918761788558527e-05,\n",
              " 3.607845306396485e-05,\n",
              " 1.3066172250569427e-06,\n",
              " 3.822783839918352e-05,\n",
              " 3.3929067728746175e-05,\n",
              " 3.863942282507645e-05,\n",
              " 3.351748330285324e-05)"
            ]
          },
          "metadata": {
            "tags": []
          }
        },
        {
          "output_type": "display_data",
          "data": {
            "text/plain": [
              "'K=6'"
            ]
          },
          "metadata": {
            "tags": []
          }
        },
        {
          "output_type": "display_data",
          "data": {
            "text/plain": [
              "(0.00013371697618581,\n",
              " 0.0001655430793762207,\n",
              " 5.985993959897455e-06,\n",
              " 0.000175390039440252,\n",
              " 0.0001556961193121894,\n",
              " 0.0001772756275376197,\n",
              " 0.0001538105312148217)"
            ]
          },
          "metadata": {
            "tags": []
          }
        }
      ]
    },
    {
      "cell_type": "markdown",
      "metadata": {
        "id": "a7pV79-0QAkB",
        "colab_type": "text"
      },
      "source": [
        "Error_Graphs  (Test Part)"
      ]
    },
    {
      "cell_type": "code",
      "metadata": {
        "id": "F8sg7xMJQAHy",
        "colab_type": "code",
        "outputId": "3ecfde65-72e8-4741-dbf2-6207f6027267",
        "colab": {
          "base_uri": "https://localhost:8080/",
          "height": 459
        }
      },
      "source": [
        "display(len(Error_graphs))\n",
        "display(len(Error_graphs_len))\n",
        "display(len(Error_graphs_k))\n",
        "display(\"\")\n",
        "display(Error_graphs[5])\n",
        "display(Error_graphs_k[5])\n",
        "display(Error_graphs_p_clique[5])\n"
      ],
      "execution_count": 0,
      "outputs": [
        {
          "output_type": "display_data",
          "data": {
            "text/plain": [
              "376"
            ]
          },
          "metadata": {
            "tags": []
          }
        },
        {
          "output_type": "display_data",
          "data": {
            "text/plain": [
              "376"
            ]
          },
          "metadata": {
            "tags": []
          }
        },
        {
          "output_type": "display_data",
          "data": {
            "text/plain": [
              "376"
            ]
          },
          "metadata": {
            "tags": []
          }
        },
        {
          "output_type": "display_data",
          "data": {
            "text/plain": [
              "''"
            ]
          },
          "metadata": {
            "tags": []
          }
        },
        {
          "output_type": "display_data",
          "data": {
            "text/plain": [
              "{1: [2, 5, 6, 9, 10, 12, 18, 20],\n",
              " 2: [1, 3, 4, 5, 7, 10, 11, 12, 14, 15, 17, 18, 19],\n",
              " 3: [2, 11, 13, 14, 17, 18],\n",
              " 4: [2, 5, 6, 7, 8, 13, 14, 15, 17, 19],\n",
              " 5: [1, 2, 4, 6, 8, 9, 13, 18, 20],\n",
              " 6: [1, 4, 5, 8, 10, 12, 13, 17, 18, 19],\n",
              " 7: [2, 4, 8, 10, 13, 16, 17, 18, 20],\n",
              " 8: [4, 5, 6, 7, 11, 14, 15, 16, 18],\n",
              " 9: [1, 5, 14, 15, 17, 19],\n",
              " 10: [1, 2, 6, 7, 12, 13, 15, 19, 20],\n",
              " 11: [2, 3, 8, 12, 18, 20],\n",
              " 12: [1, 2, 6, 10, 11, 13, 15, 19],\n",
              " 13: [3, 4, 5, 6, 7, 10, 12, 14, 16],\n",
              " 14: [2, 3, 4, 8, 9, 13, 18, 20],\n",
              " 15: [2, 4, 8, 9, 10, 12, 17, 18, 19],\n",
              " 16: [7, 8, 13, 17, 18, 20],\n",
              " 17: [2, 3, 4, 6, 7, 9, 15, 16, 20],\n",
              " 18: [1, 2, 3, 5, 6, 7, 8, 11, 14, 15, 16, 19, 20],\n",
              " 19: [2, 4, 6, 9, 10, 12, 15, 18, 20],\n",
              " 20: [1, 5, 7, 10, 11, 14, 16, 17, 18, 19]}"
            ]
          },
          "metadata": {
            "tags": []
          }
        },
        {
          "output_type": "display_data",
          "data": {
            "text/plain": [
              "5"
            ]
          },
          "metadata": {
            "tags": []
          }
        },
        {
          "output_type": "display_data",
          "data": {
            "text/plain": [
              "False"
            ]
          },
          "metadata": {
            "tags": []
          }
        }
      ]
    },
    {
      "cell_type": "markdown",
      "metadata": {
        "id": "r6kFh-vmTvTW",
        "colab_type": "text"
      },
      "source": [
        "Additional Test and Visualization"
      ]
    },
    {
      "cell_type": "code",
      "metadata": {
        "id": "yq8cjHrqVT4H",
        "colab_type": "code",
        "colab": {}
      },
      "source": [
        "def p_clique_return(graph,k):\n",
        "  if k == 1:\n",
        "      return True,graph[1]\n",
        "  clique = []\n",
        "  vertices = get_keys_array(graph)\n",
        "  max_ln=0\n",
        "  max_dict=[]\n",
        "  clique = []\n",
        "  for i in range(0,len(graph)): \n",
        "    print(\"Clique = \", clique)\n",
        "    clique=[]\n",
        "    clique.append(vertices[i])\n",
        "    for v in vertices:            \n",
        "        if v in clique:             \n",
        "            continue\n",
        "        isNext = True\n",
        "        for u in clique:            \n",
        "            if u in graph[v]:        \n",
        "              continue\n",
        "            else:\n",
        "              isNext = False\n",
        "              break\n",
        "        if isNext:\n",
        "          clique.append(v)\n",
        "          if k <= len(clique):\n",
        "            return True,clique\n",
        "    if len(clique)>max_ln:\n",
        "      max_ln=len(clique)\n",
        "      max_dict=clique\n",
        "  if k <= len(clique):\n",
        "    return True, clique\n",
        "  else :\n",
        "    return False, clique"
      ],
      "execution_count": 0,
      "outputs": []
    },
    {
      "cell_type": "code",
      "metadata": {
        "id": "5aYnsbkmaBgJ",
        "colab_type": "code",
        "colab": {}
      },
      "source": [
        "def find_cliques(potential_clique=[], remaining_nodes=[], skip_nodes=[], depth=0,all_cliques=[]):\n",
        "\n",
        "    if len(remaining_nodes) == 0 and len(skip_nodes) == 0:\n",
        "        #print('This is a clique:', potential_clique)\n",
        "        all_cliques.append(potential_clique)\n",
        "        return 1\n",
        "\n",
        "    found_cliques = 0\n",
        "    for node in remaining_nodes:\n",
        "\n",
        "        # Try adding the node to the current potential_clique to see if we can make it work.\n",
        "        new_potential_clique = potential_clique + [node]\n",
        "        new_remaining_nodes = [n for n in remaining_nodes if n in node.neighbors]\n",
        "        new_skip_list = [n for n in skip_nodes if n in node.neighbors]\n",
        "        found_cliques += find_cliques(new_potential_clique, new_remaining_nodes, new_skip_list, depth + 1,all_cliques)\n",
        "\n",
        "        # We're done considering this node.  If there was a way to form a clique with it, we\n",
        "        # already discovered its maximal clique in the recursive call above.  So, go ahead\n",
        "        # and remove it from the list of remaining nodes and add it to the skip list.\n",
        "        remaining_nodes.remove(node)\n",
        "        skip_nodes.append(node)\n",
        "    return found_cliques\n",
        "\n",
        "def convert_dict_to_nodes(graph):\n",
        "  all_nodes = []\n",
        "  for i in graph:\n",
        "      all_nodes.append(Node(chr(i+64)))\n",
        "  for n in all_nodes:\n",
        "      n.neighbors = []\n",
        "      for i in graph[ord(n.name)-64]:\n",
        "          n.neighbors.append(all_nodes[i-1])\n",
        "  return all_nodes\n",
        "\n",
        "def np_clique_return(graph,k):\n",
        "  myNodes = convert_dict_to_nodes(graph)\n",
        "  all_cliques = []\n",
        "  found_cliques = find_cliques(remaining_nodes=myNodes, all_cliques=all_cliques)\n",
        "  result = 0\n",
        "  clq = []\n",
        "  for c in all_cliques:\n",
        "      if len(c) > result:\n",
        "          result = len(c)\n",
        "          clq = c\n",
        "\n",
        "\n",
        "  if result >= k:\n",
        "      return True,clq\n",
        "\n",
        "  return False,clq\n"
      ],
      "execution_count": 0,
      "outputs": []
    },
    {
      "cell_type": "code",
      "metadata": {
        "id": "lEhwM5jB9ySM",
        "colab_type": "code",
        "outputId": "c4a7702f-0edd-470f-9d09-877fe92d05a7",
        "colab": {
          "base_uri": "https://localhost:8080/",
          "height": 319
        }
      },
      "source": [
        "import networkx as nx\n",
        "import numpy as np\n",
        "\n",
        "a = Error_graphs[5]\n",
        "G = nx.Graph(a)\n",
        "\n",
        "nx.draw(G, with_labels=True)"
      ],
      "execution_count": 0,
      "outputs": [
        {
          "output_type": "display_data",
          "data": {
            "image/png": "[encoded data removed]",
            "text/plain": [
              "<Figure size 432x288 with 1 Axes>"
            ]
          },
          "metadata": {
            "tags": []
          }
        }
      ]
    },
    {
      "cell_type": "code",
      "metadata": {
        "id": "zz7R3O9GFwed",
        "colab_type": "code",
        "outputId": "a8f111d1-6a01-4533-96f2-fdb53f01e9e6",
        "colab": {
          "base_uri": "https://localhost:8080/",
          "height": 34
        }
      },
      "source": [
        "a,b = p_clique_return(Error_graphs[5],4)\n",
        "print(a,b)"
      ],
      "execution_count": 0,
      "outputs": [
        {
          "output_type": "stream",
          "text": [
            "True [1, 2, 5, 18]\n"
          ],
          "name": "stdout"
        }
      ]
    },
    {
      "cell_type": "code",
      "metadata": {
        "id": "BAe9Qo9C4cIM",
        "colab_type": "code",
        "colab": {}
      },
      "source": [
        "k= \n",
        "index = 22\n",
        "Graph = graph_gen(50)\n",
        "a,b =p_clique_return(Graph,k)\n",
        "c,d = np_clique_return(Graph,k)\n",
        "result = []\n",
        "for i in range(len(d)):\n",
        "    result.append(ord(d[i].name) -64)\n",
        "\n",
        "\n",
        "\n",
        "print(a,\" \",b,\"\\n\\n\",Graph,\"\\n\\n\",c,\" \",result)\n",
        "Error_graphs[index]"
      ],
      "execution_count": 0,
      "outputs": []
    },
    {
      "cell_type": "code",
      "metadata": {
        "id": "4sCHPzrQJ_JH",
        "colab_type": "code",
        "outputId": "663a47a3-1dc6-4996-f1d9-8d71df8d7dd5",
        "colab": {
          "base_uri": "https://localhost:8080/",
          "height": 319
        }
      },
      "source": [
        "import networkx as nx\n",
        "import numpy as np\n",
        "\n",
        "a = Error_graphs[index]\n",
        "G = nx.Graph(a)\n",
        "\n",
        "nx.draw(G, with_labels=True)"
      ],
      "execution_count": 0,
      "outputs": [
        {
          "output_type": "display_data",
          "data": {
            "image/png": "[encoded data removed]",
            "text/plain": [
              "<Figure size 432x288 with 1 Axes>"
            ]
          },
          "metadata": {
            "tags": []
          }
        }
      ]
    }
  ]
}